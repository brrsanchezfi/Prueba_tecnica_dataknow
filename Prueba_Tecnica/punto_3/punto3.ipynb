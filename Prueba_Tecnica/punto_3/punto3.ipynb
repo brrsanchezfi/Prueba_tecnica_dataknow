{
 "cells": [
  {
   "cell_type": "code",
   "execution_count": 53,
   "id": "6f57f830-189d-4264-9b8f-7fc975fc91cc",
   "metadata": {},
   "outputs": [],
   "source": [
    "import warnings\n",
    "warnings.filterwarnings(\"ignore\", message=\"pandas only supports SQLAlchemy connectable*\")\n",
    "warnings.filterwarnings(\"default\")"
   ]
  },
  {
   "cell_type": "code",
   "execution_count": 17,
   "id": "cbaeba73-5654-44ca-be95-7324c02fcfc6",
   "metadata": {},
   "outputs": [],
   "source": [
    "%pip install pyodbc\n",
    "import subprocess\n",
    "import pandas as pd\n",
    "import pyodbc"
   ]
  },
  {
   "cell_type": "code",
   "execution_count": 4,
   "id": "fc0b7db9-bb10-4bcf-93c6-ecdb23e45a4a",
   "metadata": {},
   "outputs": [
    {
     "name": "stdout",
     "output_type": "stream",
     "text": [
      "Docker Compose se ejecutó exitosamente.\n"
     ]
    }
   ],
   "source": [
    "docker_compose_file = 'docker-compose.yml'\n",
    "\n",
    "try:\n",
    "    comando = f'docker-compose -f {docker_compose_file} up -d'\n",
    "\n",
    "    resultado = subprocess.run(comando, shell=True, check=True)\n",
    "    print(\"Docker Compose se ejecutó exitosamente, espere 15 seg\")\n",
    "except subprocess.CalledProcessError as e:\n",
    "    print(f\"Error al ejecutar Docker Compose: {e}\")\n",
    "except Exception as e:\n",
    "    print(f\"Error inesperado: {e}\")"
   ]
  },
  {
   "cell_type": "code",
   "execution_count": 52,
   "id": "3ef283db-cd25-4c19-82c9-10a50d25ac9c",
   "metadata": {},
   "outputs": [
    {
     "name": "stderr",
     "output_type": "stream",
     "text": [
      "C:\\Users\\braya\\AppData\\Local\\Temp\\ipykernel_19884\\1424838540.py:21: UserWarning: pandas only supports SQLAlchemy connectable (engine/connection) or database string URI or sqlite3 DBAPI2 connection. Other DBAPI2 objects are not tested. Please consider using SQLAlchemy.\n",
      "  Respuestas[vista] = pd.read_sql_query(query, conn)\n"
     ]
    }
   ],
   "source": [
    "server = 'localhost'\n",
    "database = 'EMPRESA'\n",
    "username = 'SA'\n",
    "password = 'XyZ#2fL9!qo$7aB'\n",
    "conn_str = f'DRIVER=SQL Server;SERVER={server};DATABASE={database};UID={username};PWD={password}'\n",
    "conn = pyodbc.connect(conn_str)\n",
    "\n",
    "vistas = ['PREGUNTA_1', \n",
    "          'PREGUNTA_2', \n",
    "          'PREGUNTA_3', \n",
    "          'PREGUNTA_4', \n",
    "          'PREGUNTA_5', \n",
    "          'PREGUNTA_6', \n",
    "          'PREGUNTA_7', \n",
    "          'PREGUNTA_8', \n",
    "          'PREGUNTA_9']\n",
    "\n",
    "Respuestas = {}\n",
    "for vista in vistas:\n",
    "    query = f'SELECT * FROM {vista}'\n",
    "    Respuestas[vista] = pd.read_sql_query(query, conn)\n",
    "conn.close()"
   ]
  },
  {
   "cell_type": "raw",
   "id": "91278621-682d-4302-88ab-592fe739428d",
   "metadata": {},
   "source": [
    "Punto 1\n",
    "➢ Seleccione nombre, apellido y salario de todos los empleados."
   ]
  },
  {
   "cell_type": "code",
   "execution_count": 47,
   "id": "f6fde737-d3b1-4f42-b5bf-54e8e3973e62",
   "metadata": {},
   "outputs": [
    {
     "data": {
      "text/html": [
       "<div>\n",
       "<style scoped>\n",
       "    .dataframe tbody tr th:only-of-type {\n",
       "        vertical-align: middle;\n",
       "    }\n",
       "\n",
       "    .dataframe tbody tr th {\n",
       "        vertical-align: top;\n",
       "    }\n",
       "\n",
       "    .dataframe thead th {\n",
       "        text-align: right;\n",
       "    }\n",
       "</style>\n",
       "<table border=\"1\" class=\"dataframe\">\n",
       "  <thead>\n",
       "    <tr style=\"text-align: right;\">\n",
       "      <th></th>\n",
       "      <th>NOMBRE</th>\n",
       "      <th>APELLIDO</th>\n",
       "      <th>SALARIO</th>\n",
       "    </tr>\n",
       "  </thead>\n",
       "  <tbody>\n",
       "    <tr>\n",
       "      <th>0</th>\n",
       "      <td>JUAN</td>\n",
       "      <td>PELAEZ</td>\n",
       "      <td>3500000.0</td>\n",
       "    </tr>\n",
       "    <tr>\n",
       "      <th>1</th>\n",
       "      <td>ANDRES</td>\n",
       "      <td>GARCIA</td>\n",
       "      <td>5500000.0</td>\n",
       "    </tr>\n",
       "    <tr>\n",
       "      <th>2</th>\n",
       "      <td>LAURA</td>\n",
       "      <td>PEREZ</td>\n",
       "      <td>2500000.0</td>\n",
       "    </tr>\n",
       "    <tr>\n",
       "      <th>3</th>\n",
       "      <td>PEPE</td>\n",
       "      <td>MARTINEZ</td>\n",
       "      <td>3800000.0</td>\n",
       "    </tr>\n",
       "    <tr>\n",
       "      <th>4</th>\n",
       "      <td>MARGARITA</td>\n",
       "      <td>CORRALES</td>\n",
       "      <td>4500000.0</td>\n",
       "    </tr>\n",
       "  </tbody>\n",
       "</table>\n",
       "</div>"
      ],
      "text/plain": [
       "      NOMBRE  APELLIDO    SALARIO\n",
       "0       JUAN    PELAEZ  3500000.0\n",
       "1     ANDRES    GARCIA  5500000.0\n",
       "2      LAURA     PEREZ  2500000.0\n",
       "3       PEPE  MARTINEZ  3800000.0\n",
       "4  MARGARITA  CORRALES  4500000.0"
      ]
     },
     "execution_count": 47,
     "metadata": {},
     "output_type": "execute_result"
    }
   ],
   "source": [
    "Respuestas['PREGUNTA_1']"
   ]
  },
  {
   "cell_type": "raw",
   "id": "3b26d131-455f-4d25-97d3-30be17d69888",
   "metadata": {},
   "source": [
    "➢ Seleccione nombre, apellido y salario de todos los empleados que ganen más \n",
    "de 4 millones."
   ]
  },
  {
   "cell_type": "code",
   "execution_count": 35,
   "id": "1dd279ee-5b09-4778-a4c5-9eca437c1621",
   "metadata": {},
   "outputs": [
    {
     "data": {
      "text/html": [
       "<div>\n",
       "<style scoped>\n",
       "    .dataframe tbody tr th:only-of-type {\n",
       "        vertical-align: middle;\n",
       "    }\n",
       "\n",
       "    .dataframe tbody tr th {\n",
       "        vertical-align: top;\n",
       "    }\n",
       "\n",
       "    .dataframe thead th {\n",
       "        text-align: right;\n",
       "    }\n",
       "</style>\n",
       "<table border=\"1\" class=\"dataframe\">\n",
       "  <thead>\n",
       "    <tr style=\"text-align: right;\">\n",
       "      <th></th>\n",
       "      <th>NOMBRE</th>\n",
       "      <th>APELLIDO</th>\n",
       "      <th>SALARIO</th>\n",
       "    </tr>\n",
       "  </thead>\n",
       "  <tbody>\n",
       "    <tr>\n",
       "      <th>0</th>\n",
       "      <td>ANDRES</td>\n",
       "      <td>GARCIA</td>\n",
       "      <td>5500000.0</td>\n",
       "    </tr>\n",
       "    <tr>\n",
       "      <th>1</th>\n",
       "      <td>MARGARITA</td>\n",
       "      <td>CORRALES</td>\n",
       "      <td>4500000.0</td>\n",
       "    </tr>\n",
       "  </tbody>\n",
       "</table>\n",
       "</div>"
      ],
      "text/plain": [
       "      NOMBRE  APELLIDO    SALARIO\n",
       "0     ANDRES    GARCIA  5500000.0\n",
       "1  MARGARITA  CORRALES  4500000.0"
      ]
     },
     "execution_count": 35,
     "metadata": {},
     "output_type": "execute_result"
    }
   ],
   "source": [
    "Respuestas['PREGUNTA_2']"
   ]
  },
  {
   "cell_type": "raw",
   "id": "8d87ba3a-48c0-4298-9f1e-44e9f4cd355a",
   "metadata": {},
   "source": [
    "➢ Cuente los empleados por sexo."
   ]
  },
  {
   "cell_type": "code",
   "execution_count": 36,
   "id": "70161c1d-ffc1-42e3-a7b7-923da61bc124",
   "metadata": {},
   "outputs": [
    {
     "data": {
      "text/html": [
       "<div>\n",
       "<style scoped>\n",
       "    .dataframe tbody tr th:only-of-type {\n",
       "        vertical-align: middle;\n",
       "    }\n",
       "\n",
       "    .dataframe tbody tr th {\n",
       "        vertical-align: top;\n",
       "    }\n",
       "\n",
       "    .dataframe thead th {\n",
       "        text-align: right;\n",
       "    }\n",
       "</style>\n",
       "<table border=\"1\" class=\"dataframe\">\n",
       "  <thead>\n",
       "    <tr style=\"text-align: right;\">\n",
       "      <th></th>\n",
       "      <th>SEXO</th>\n",
       "      <th>TOTAL</th>\n",
       "    </tr>\n",
       "  </thead>\n",
       "  <tbody>\n",
       "    <tr>\n",
       "      <th>0</th>\n",
       "      <td>F</td>\n",
       "      <td>2</td>\n",
       "    </tr>\n",
       "    <tr>\n",
       "      <th>1</th>\n",
       "      <td>M</td>\n",
       "      <td>3</td>\n",
       "    </tr>\n",
       "  </tbody>\n",
       "</table>\n",
       "</div>"
      ],
      "text/plain": [
       "  SEXO  TOTAL\n",
       "0    F      2\n",
       "1    M      3"
      ]
     },
     "execution_count": 36,
     "metadata": {},
     "output_type": "execute_result"
    }
   ],
   "source": [
    "Respuestas['PREGUNTA_3']"
   ]
  },
  {
   "cell_type": "raw",
   "id": "9488e39d-52f5-4dcc-a577-ae35c41e23c3",
   "metadata": {},
   "source": [
    "➢ Seleccione los empleados que no han hecho solicitud de vacaciones."
   ]
  },
  {
   "cell_type": "code",
   "execution_count": 37,
   "id": "8c79dee8-9f0e-4ef9-8a29-e1857ffc0904",
   "metadata": {},
   "outputs": [
    {
     "data": {
      "text/html": [
       "<div>\n",
       "<style scoped>\n",
       "    .dataframe tbody tr th:only-of-type {\n",
       "        vertical-align: middle;\n",
       "    }\n",
       "\n",
       "    .dataframe tbody tr th {\n",
       "        vertical-align: top;\n",
       "    }\n",
       "\n",
       "    .dataframe thead th {\n",
       "        text-align: right;\n",
       "    }\n",
       "</style>\n",
       "<table border=\"1\" class=\"dataframe\">\n",
       "  <thead>\n",
       "    <tr style=\"text-align: right;\">\n",
       "      <th></th>\n",
       "      <th>NOMBRE</th>\n",
       "      <th>APELLIDO</th>\n",
       "      <th>ID_EMP</th>\n",
       "    </tr>\n",
       "  </thead>\n",
       "  <tbody>\n",
       "    <tr>\n",
       "      <th>0</th>\n",
       "      <td>PEPE</td>\n",
       "      <td>MARTINEZ</td>\n",
       "      <td>4</td>\n",
       "    </tr>\n",
       "    <tr>\n",
       "      <th>1</th>\n",
       "      <td>MARGARITA</td>\n",
       "      <td>CORRALES</td>\n",
       "      <td>5</td>\n",
       "    </tr>\n",
       "  </tbody>\n",
       "</table>\n",
       "</div>"
      ],
      "text/plain": [
       "      NOMBRE  APELLIDO  ID_EMP\n",
       "0       PEPE  MARTINEZ       4\n",
       "1  MARGARITA  CORRALES       5"
      ]
     },
     "execution_count": 37,
     "metadata": {},
     "output_type": "execute_result"
    }
   ],
   "source": [
    "Respuestas['PREGUNTA_4']"
   ]
  },
  {
   "cell_type": "raw",
   "id": "edd48b6b-2185-4369-a282-3c05a92f8b03",
   "metadata": {},
   "source": [
    "➢ Seleccione los empleados que tengan más de una solicitud de vacaciones y \n",
    "muestre cuantas solicitudes tienen los que cumplen."
   ]
  },
  {
   "cell_type": "code",
   "execution_count": 38,
   "id": "63971d9b-4c80-4a8b-8992-db6b2b2dfd93",
   "metadata": {},
   "outputs": [
    {
     "data": {
      "text/html": [
       "<div>\n",
       "<style scoped>\n",
       "    .dataframe tbody tr th:only-of-type {\n",
       "        vertical-align: middle;\n",
       "    }\n",
       "\n",
       "    .dataframe tbody tr th {\n",
       "        vertical-align: top;\n",
       "    }\n",
       "\n",
       "    .dataframe thead th {\n",
       "        text-align: right;\n",
       "    }\n",
       "</style>\n",
       "<table border=\"1\" class=\"dataframe\">\n",
       "  <thead>\n",
       "    <tr style=\"text-align: right;\">\n",
       "      <th></th>\n",
       "      <th>NOMBRE</th>\n",
       "      <th>APELLIDO</th>\n",
       "      <th>ID_EMP</th>\n",
       "      <th>CantidadSolicitudes</th>\n",
       "    </tr>\n",
       "  </thead>\n",
       "  <tbody>\n",
       "    <tr>\n",
       "      <th>0</th>\n",
       "      <td>ANDRES</td>\n",
       "      <td>GARCIA</td>\n",
       "      <td>2</td>\n",
       "      <td>3</td>\n",
       "    </tr>\n",
       "    <tr>\n",
       "      <th>1</th>\n",
       "      <td>LAURA</td>\n",
       "      <td>PEREZ</td>\n",
       "      <td>3</td>\n",
       "      <td>2</td>\n",
       "    </tr>\n",
       "  </tbody>\n",
       "</table>\n",
       "</div>"
      ],
      "text/plain": [
       "   NOMBRE APELLIDO  ID_EMP  CantidadSolicitudes\n",
       "0  ANDRES   GARCIA       2                    3\n",
       "1   LAURA    PEREZ       3                    2"
      ]
     },
     "execution_count": 38,
     "metadata": {},
     "output_type": "execute_result"
    }
   ],
   "source": [
    "Respuestas['PREGUNTA_5']"
   ]
  },
  {
   "cell_type": "raw",
   "id": "30639415-abc4-4fdc-bcd8-fdab7c8b2b96",
   "metadata": {},
   "source": [
    "➢ Determine el salario promedio de los empleados."
   ]
  },
  {
   "cell_type": "code",
   "execution_count": 39,
   "id": "68de0796-130e-4e5d-a2b7-bc608c960442",
   "metadata": {},
   "outputs": [
    {
     "data": {
      "text/html": [
       "<div>\n",
       "<style scoped>\n",
       "    .dataframe tbody tr th:only-of-type {\n",
       "        vertical-align: middle;\n",
       "    }\n",
       "\n",
       "    .dataframe tbody tr th {\n",
       "        vertical-align: top;\n",
       "    }\n",
       "\n",
       "    .dataframe thead th {\n",
       "        text-align: right;\n",
       "    }\n",
       "</style>\n",
       "<table border=\"1\" class=\"dataframe\">\n",
       "  <thead>\n",
       "    <tr style=\"text-align: right;\">\n",
       "      <th></th>\n",
       "      <th>SALARIO_PROMEDIO</th>\n",
       "    </tr>\n",
       "  </thead>\n",
       "  <tbody>\n",
       "    <tr>\n",
       "      <th>0</th>\n",
       "      <td>3960000.0</td>\n",
       "    </tr>\n",
       "  </tbody>\n",
       "</table>\n",
       "</div>"
      ],
      "text/plain": [
       "   SALARIO_PROMEDIO\n",
       "0         3960000.0"
      ]
     },
     "execution_count": 39,
     "metadata": {},
     "output_type": "execute_result"
    }
   ],
   "source": [
    "Respuestas['PREGUNTA_6']"
   ]
  },
  {
   "cell_type": "raw",
   "id": "3afcaefd-ca00-44af-a912-62730d21e319",
   "metadata": {},
   "source": [
    "➢ Determine la cantidad de días promedio solicitados de vacaciones por cada \n",
    "empleado."
   ]
  },
  {
   "cell_type": "code",
   "execution_count": 40,
   "id": "cd09267a-55e0-4eb8-afbe-86558845d125",
   "metadata": {},
   "outputs": [
    {
     "data": {
      "text/html": [
       "<div>\n",
       "<style scoped>\n",
       "    .dataframe tbody tr th:only-of-type {\n",
       "        vertical-align: middle;\n",
       "    }\n",
       "\n",
       "    .dataframe tbody tr th {\n",
       "        vertical-align: top;\n",
       "    }\n",
       "\n",
       "    .dataframe thead th {\n",
       "        text-align: right;\n",
       "    }\n",
       "</style>\n",
       "<table border=\"1\" class=\"dataframe\">\n",
       "  <thead>\n",
       "    <tr style=\"text-align: right;\">\n",
       "      <th></th>\n",
       "      <th>ID</th>\n",
       "      <th>NOMBRE</th>\n",
       "      <th>APELLIDO</th>\n",
       "      <th>DIAS</th>\n",
       "    </tr>\n",
       "  </thead>\n",
       "  <tbody>\n",
       "    <tr>\n",
       "      <th>0</th>\n",
       "      <td>1</td>\n",
       "      <td>JUAN</td>\n",
       "      <td>PELAEZ</td>\n",
       "      <td>14.0</td>\n",
       "    </tr>\n",
       "    <tr>\n",
       "      <th>1</th>\n",
       "      <td>2</td>\n",
       "      <td>ANDRES</td>\n",
       "      <td>GARCIA</td>\n",
       "      <td>11.0</td>\n",
       "    </tr>\n",
       "    <tr>\n",
       "      <th>2</th>\n",
       "      <td>3</td>\n",
       "      <td>LAURA</td>\n",
       "      <td>PEREZ</td>\n",
       "      <td>8.0</td>\n",
       "    </tr>\n",
       "    <tr>\n",
       "      <th>3</th>\n",
       "      <td>4</td>\n",
       "      <td>PEPE</td>\n",
       "      <td>MARTINEZ</td>\n",
       "      <td>NaN</td>\n",
       "    </tr>\n",
       "    <tr>\n",
       "      <th>4</th>\n",
       "      <td>5</td>\n",
       "      <td>MARGARITA</td>\n",
       "      <td>CORRALES</td>\n",
       "      <td>NaN</td>\n",
       "    </tr>\n",
       "  </tbody>\n",
       "</table>\n",
       "</div>"
      ],
      "text/plain": [
       "   ID     NOMBRE  APELLIDO  DIAS\n",
       "0   1       JUAN    PELAEZ  14.0\n",
       "1   2     ANDRES    GARCIA  11.0\n",
       "2   3      LAURA     PEREZ   8.0\n",
       "3   4       PEPE  MARTINEZ   NaN\n",
       "4   5  MARGARITA  CORRALES   NaN"
      ]
     },
     "execution_count": 40,
     "metadata": {},
     "output_type": "execute_result"
    }
   ],
   "source": [
    "Respuestas['PREGUNTA_7']"
   ]
  },
  {
   "cell_type": "raw",
   "id": "8e9e0027-52ab-4424-988d-66871d449538",
   "metadata": {},
   "source": [
    "➢ Seleccione el empleado que mayor cantidad de días de vacaciones ha \n",
    "solicitado, muestre el nombre, apellido y cantidad de días totales solicitados."
   ]
  },
  {
   "cell_type": "code",
   "execution_count": 41,
   "id": "0188a0b5-14cb-4f07-a0a7-2d6494e6f199",
   "metadata": {},
   "outputs": [
    {
     "data": {
      "text/html": [
       "<div>\n",
       "<style scoped>\n",
       "    .dataframe tbody tr th:only-of-type {\n",
       "        vertical-align: middle;\n",
       "    }\n",
       "\n",
       "    .dataframe tbody tr th {\n",
       "        vertical-align: top;\n",
       "    }\n",
       "\n",
       "    .dataframe thead th {\n",
       "        text-align: right;\n",
       "    }\n",
       "</style>\n",
       "<table border=\"1\" class=\"dataframe\">\n",
       "  <thead>\n",
       "    <tr style=\"text-align: right;\">\n",
       "      <th></th>\n",
       "      <th>NOMBRE</th>\n",
       "      <th>APELLIDO</th>\n",
       "      <th>DIAS</th>\n",
       "    </tr>\n",
       "  </thead>\n",
       "  <tbody>\n",
       "    <tr>\n",
       "      <th>0</th>\n",
       "      <td>ANDRES</td>\n",
       "      <td>GARCIA</td>\n",
       "      <td>34</td>\n",
       "    </tr>\n",
       "  </tbody>\n",
       "</table>\n",
       "</div>"
      ],
      "text/plain": [
       "   NOMBRE APELLIDO  DIAS\n",
       "0  ANDRES   GARCIA    34"
      ]
     },
     "execution_count": 41,
     "metadata": {},
     "output_type": "execute_result"
    }
   ],
   "source": [
    "Respuestas['PREGUNTA_8']"
   ]
  },
  {
   "cell_type": "raw",
   "id": "ebeb376a-a223-4e39-9e4d-edf37effc942",
   "metadata": {},
   "source": [
    "➢ Consulte la cantidad de días aprobados y rechazados por cada empleado, \n",
    "en caso de no tener solicitudes mostrar 0."
   ]
  },
  {
   "cell_type": "code",
   "execution_count": 42,
   "id": "5f39e7e1-8b52-4093-9b6d-5ca863cdcb0b",
   "metadata": {},
   "outputs": [
    {
     "data": {
      "text/html": [
       "<div>\n",
       "<style scoped>\n",
       "    .dataframe tbody tr th:only-of-type {\n",
       "        vertical-align: middle;\n",
       "    }\n",
       "\n",
       "    .dataframe tbody tr th {\n",
       "        vertical-align: top;\n",
       "    }\n",
       "\n",
       "    .dataframe thead th {\n",
       "        text-align: right;\n",
       "    }\n",
       "</style>\n",
       "<table border=\"1\" class=\"dataframe\">\n",
       "  <thead>\n",
       "    <tr style=\"text-align: right;\">\n",
       "      <th></th>\n",
       "      <th>NOMBRE</th>\n",
       "      <th>APELLIDO</th>\n",
       "      <th>APROBADOS</th>\n",
       "      <th>RECHAZADOS</th>\n",
       "    </tr>\n",
       "  </thead>\n",
       "  <tbody>\n",
       "    <tr>\n",
       "      <th>0</th>\n",
       "      <td>JUAN</td>\n",
       "      <td>PELAEZ</td>\n",
       "      <td>14</td>\n",
       "      <td>0</td>\n",
       "    </tr>\n",
       "    <tr>\n",
       "      <th>1</th>\n",
       "      <td>ANDRES</td>\n",
       "      <td>GARCIA</td>\n",
       "      <td>20</td>\n",
       "      <td>14</td>\n",
       "    </tr>\n",
       "    <tr>\n",
       "      <th>2</th>\n",
       "      <td>LAURA</td>\n",
       "      <td>PEREZ</td>\n",
       "      <td>16</td>\n",
       "      <td>0</td>\n",
       "    </tr>\n",
       "    <tr>\n",
       "      <th>3</th>\n",
       "      <td>PEPE</td>\n",
       "      <td>MARTINEZ</td>\n",
       "      <td>0</td>\n",
       "      <td>0</td>\n",
       "    </tr>\n",
       "    <tr>\n",
       "      <th>4</th>\n",
       "      <td>MARGARITA</td>\n",
       "      <td>CORRALES</td>\n",
       "      <td>0</td>\n",
       "      <td>0</td>\n",
       "    </tr>\n",
       "  </tbody>\n",
       "</table>\n",
       "</div>"
      ],
      "text/plain": [
       "      NOMBRE  APELLIDO  APROBADOS  RECHAZADOS\n",
       "0       JUAN    PELAEZ         14           0\n",
       "1     ANDRES    GARCIA         20          14\n",
       "2      LAURA     PEREZ         16           0\n",
       "3       PEPE  MARTINEZ          0           0\n",
       "4  MARGARITA  CORRALES          0           0"
      ]
     },
     "execution_count": 42,
     "metadata": {},
     "output_type": "execute_result"
    }
   ],
   "source": [
    "Respuestas['PREGUNTA_9']"
   ]
  },
  {
   "cell_type": "code",
   "execution_count": null,
   "id": "97c4a0a7-dbab-4886-8996-c3b01ecbd613",
   "metadata": {},
   "outputs": [],
   "source": []
  }
 ],
 "metadata": {
  "kernelspec": {
   "display_name": "Python 3 (ipykernel)",
   "language": "python",
   "name": "python3"
  },
  "language_info": {
   "codemirror_mode": {
    "name": "ipython",
    "version": 3
   },
   "file_extension": ".py",
   "mimetype": "text/x-python",
   "name": "python",
   "nbconvert_exporter": "python",
   "pygments_lexer": "ipython3",
   "version": "3.11.6"
  }
 },
 "nbformat": 4,
 "nbformat_minor": 5
}
